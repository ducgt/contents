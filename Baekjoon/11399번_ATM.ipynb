{
 "cells": [
  {
   "cell_type": "code",
   "execution_count": 2,
   "metadata": {},
   "outputs": [
    {
     "name": "stdout",
     "output_type": "stream",
     "text": [
      "32\n"
     ]
    }
   ],
   "source": [
    "# atm\n",
    "# 5 / 3 1 4 3 2\n",
    "import heapq\n",
    "n = 5\n",
    "atm = [3, 1, 4, 3, 2]\n",
    "heapq.heapify(atm)\n",
    "result = 0\n",
    "for i in reversed(range(1,n+1)):\n",
    "    result += i * heapq.heappop(atm)\n",
    "print(result)"
   ]
  },
  {
   "cell_type": "code",
   "execution_count": 6,
   "metadata": {},
   "outputs": [
    {
     "name": "stdout",
     "output_type": "stream",
     "text": [
      "5\n",
      "3 1 4 3 2\n",
      "35\n"
     ]
    }
   ],
   "source": [
    "# 힙을 사용한 풀이\n",
    "n = int(input())\n",
    "atm = list(map(int, input().split()))\n",
    "\n",
    "import heapq\n",
    "heapq.heapify(atm)\n",
    "result = 0\n",
    "for i in reversed(range(1,n+1)):\n",
    "    result += i * heapq.heappop(atm)\n",
    "print(result)"
   ]
  },
  {
   "cell_type": "code",
   "execution_count": 3,
   "metadata": {},
   "outputs": [
    {
     "name": "stdout",
     "output_type": "stream",
     "text": [
      "5\n",
      "3 1 4 3 2\n",
      "32\n"
     ]
    }
   ],
   "source": [
    "# 최솟값 정렬한 풀이\n",
    "n = int(input())\n",
    "atm = list(map(int, input().split()))\n",
    "result = 0\n",
    "atm.sort()\n",
    "for i in atm:\n",
    "    result += n * i\n",
    "    n -= 1\n",
    "print(result)"
   ]
  }
 ],
 "metadata": {
  "kernelspec": {
   "display_name": "Python 3",
   "language": "python",
   "name": "python3"
  },
  "language_info": {
   "codemirror_mode": {
    "name": "ipython",
    "version": 3
   },
   "file_extension": ".py",
   "mimetype": "text/x-python",
   "name": "python",
   "nbconvert_exporter": "python",
   "pygments_lexer": "ipython3",
   "version": "3.7.5"
  }
 },
 "nbformat": 4,
 "nbformat_minor": 2
}
