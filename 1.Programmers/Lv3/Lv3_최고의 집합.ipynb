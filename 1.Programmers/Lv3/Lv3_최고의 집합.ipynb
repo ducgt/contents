{
 "cells": [
  {
   "cell_type": "markdown",
   "metadata": {},
   "source": [
    "https://programmers.co.kr/learn/courses/30/lessons/12938"
   ]
  },
  {
   "cell_type": "code",
   "execution_count": null,
   "metadata": {},
   "outputs": [],
   "source": [
    "def solution(n, s): # 자연수 n개, 모든 원소의 값\n",
    "    # s로 n을 나눴을 때, 몫을 기본으로 남은 나머지들을 분배하면 최댓값이 된다\n",
    "    d = divmod(s,n)\n",
    "    if(d[0] == 0): return [-1];\n",
    "    li = [d[0] for i in range(n)]\n",
    "    for i in range(d[1]):\n",
    "        li[i] += 1;\n",
    "    return sorted(li)"
   ]
  }
 ],
 "metadata": {
  "kernelspec": {
   "display_name": "Python 3",
   "language": "python",
   "name": "python3"
  },
  "language_info": {
   "codemirror_mode": {
    "name": "ipython",
    "version": 3
   },
   "file_extension": ".py",
   "mimetype": "text/x-python",
   "name": "python",
   "nbconvert_exporter": "python",
   "pygments_lexer": "ipython3",
   "version": "3.7.5"
  }
 },
 "nbformat": 4,
 "nbformat_minor": 2
}
