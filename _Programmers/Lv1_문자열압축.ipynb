{
 "cells": [
  {
   "cell_type": "markdown",
   "metadata": {},
   "source": [
    "https://programmers.co.kr/learn/courses/30/lessons/60057\n",
    "\n",
    "데이터 처리 전문가가 되고 싶은 어피치는 문자열을 압축하는 방법에 대해 공부를 하고 있습니다. 최근에 대량의 데이터 처리를 위한 간단한 비손실 압축 방법에 대해 공부를 하고 있는데, 문자열에서 같은 값이 연속해서 나타나는 것을 그 문자의 개수와 반복되는 값으로 표현하여 더 짧은 문자열로 줄여서 표현하는 알고리즘을 공부하고 있습니다.<br>\n",
    "\n",
    "ababcdcdababcdcd의 경우 문자를 1개 단위로 자르면 전혀 압축되지 않지만, 2개 단위로 잘라서 압축한다면 2ab2cd2ab2cd로 표현할 수 있습니다. 다른 방법으로 8개 단위로 잘라서 압축한다면 2ababcdcd로 표현할 수 있으며, 이때가 가장 짧게 압축하여 표현할 수 있는 방법입니다.<br>\n",
    "\n",
    "다른 예로, abcabcdede와 같은 경우, 문자를 2개 단위로 잘라서 압축하면 abcabc2de가 되지만, 3개 단위로 자른다면 2abcdede가 되어 3개 단위가 가장 짧은 압축 방법이 됩니다. 이때 3개 단위로 자르고 마지막에 남는 문자열은 그대로 붙여주면 됩니다.<br>\n",
    "\n",
    "### 압축할 문자열 s가 매개변수로 주어질 때, 위에 설명한 방법으로 1개 이상 단위로 문자열을 잘라 압축하여 표현한 문자열 중 가장 짧은 것의 길이를 return 하도록 solution 함수를 완성해주세요."
   ]
  },
  {
   "cell_type": "code",
   "execution_count": 87,
   "metadata": {},
   "outputs": [],
   "source": [
    "# 일단 해보기\n",
    "def solution(s):\n",
    "    sep_list = [[l for l in s]]\n",
    "    for i in range(2, len(s) + 1):\n",
    "        sep = [s[i*j:i*(j+1)] for j in range(0, len(s) - 1) if s[i*j:i*(j+1)]]\n",
    "        sep_list.append(sep)\n",
    "    print(sep_list)\n",
    "    return min(list(map(comp, sep_list)))\n",
    "\n",
    "def comp(sep):\n",
    "    count = 0\n",
    "    result = \"\"\n",
    "    for i in range(0, len(sep)):\n",
    "        if i == len(sep) - 1:\n",
    "            if count != 0:\n",
    "                result += str(count+1)\n",
    "            result += sep[i]\n",
    "            count = 0\n",
    "        else:\n",
    "            if sep[i] == sep[i+1]:\n",
    "                count += 1\n",
    "            else:\n",
    "                if count != 0:\n",
    "                    result += str(count+1)\n",
    "                result += sep[i]\n",
    "                count = 0\n",
    "#     print(result)\n",
    "    return len(result)"
   ]
  },
  {
   "cell_type": "code",
   "execution_count": 81,
   "metadata": {},
   "outputs": [],
   "source": [
    "def solution(s):\n",
    "    sep_list = [[l for l in s]] # 나눈 것을 담아두는 리스트, 최초값을 잘못 쪼개는 문제가 있어, 최초의 1단위 쪼개진 값 포함\n",
    "    for i in range(2, len(s) + 1):\n",
    "#        sep = [s[i*j:i*(j+1)] for j in range(0, len(s) - 1)] # 2단위부터 쪼개진 것들을 넣어줌\n",
    "        sep_list.append([s[i*j:i*(j+1)] for j in range(0, len(s) - 1) if s[i*j:i*(j+1)]]) # 마지막 if는 값 존재 여부 검증\n",
    "#     print(sep_list)\n",
    "    return min(list(map(mapper, sep_list)))\n",
    "\n",
    "def mapper(sep):\n",
    "    count = 0 # 중복된 철자 세는 함수\n",
    "    result = \"\" # 압축된 문자열\n",
    "    for i in range(0, len(sep)):\n",
    "        if i != len(sep) - 1 and sep[i] == sep[i+1]:\n",
    "            count += 1\n",
    "        else:\n",
    "            if count != 0:\n",
    "                result += str(count+1)\n",
    "            result += sep[i]\n",
    "            count = 0\n",
    "#             print(result)\n",
    "    return len(result) # 문자열의 길이를 리턴"
   ]
  },
  {
   "cell_type": "code",
   "execution_count": 89,
   "metadata": {},
   "outputs": [],
   "source": [
    "# 최종 클리어 코드\n",
    "def solution(s):\n",
    "    sep_list = [[l for l in s]]\n",
    "    for i in range(2, len(s) + 1):\n",
    "        sep_list.append([s[i*j:i*(j+1)] for j in range(0, len(s) - 1) if s[i*j:i*(j+1)]])\n",
    "    return min(list(map(mapper, sep_list)))\n",
    "\n",
    "def mapper(sep):\n",
    "    count = 0\n",
    "    result = \"\"\n",
    "    for i in range(0, len(sep)):\n",
    "        if i != len(sep) - 1 and sep[i] == sep[i+1]:\n",
    "            count += 1\n",
    "        else:\n",
    "            if count != 0:\n",
    "                result += str(count+1)\n",
    "            result += sep[i]\n",
    "            count = 0\n",
    "    return len(result)"
   ]
  },
  {
   "cell_type": "code",
   "execution_count": 90,
   "metadata": {},
   "outputs": [
    {
     "data": {
      "text/plain": [
       "7"
      ]
     },
     "execution_count": 90,
     "metadata": {},
     "output_type": "execute_result"
    }
   ],
   "source": [
    "solution(\"aabbaccc\")"
   ]
  }
 ],
 "metadata": {
  "kernelspec": {
   "display_name": "Python 3",
   "language": "python",
   "name": "python3"
  },
  "language_info": {
   "codemirror_mode": {
    "name": "ipython",
    "version": 3
   },
   "file_extension": ".py",
   "mimetype": "text/x-python",
   "name": "python",
   "nbconvert_exporter": "python",
   "pygments_lexer": "ipython3",
   "version": "3.7.4"
  }
 },
 "nbformat": 4,
 "nbformat_minor": 2
}
