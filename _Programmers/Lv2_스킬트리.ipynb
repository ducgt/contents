{
 "cells": [
  {
   "cell_type": "markdown",
   "metadata": {},
   "source": [
    "https://programmers.co.kr/learn/courses/30/lessons/49993?language=python3"
   ]
  },
  {
   "cell_type": "markdown",
   "metadata": {},
   "source": [
    "* 선행 스킬이란 어떤 스킬을 배우기 전에 먼저 배워야 하는 스킬을 뜻합니다.\n",
    "* 선행 스킬 순서 skill과 유저들이 만든 스킬트리1를 담은 배열 skill_trees가 매개변수로 주어질 때, 가능한 스킬트리 개수를 return 하는 solution 함수를 작성해주세요."
   ]
  },
  {
   "cell_type": "markdown",
   "metadata": {},
   "source": [
    "<tr><td><b>skill</b></td><td><b>skill_trees</b></td><td><b>return</b></td></tr>\n",
    "<tr><td>\"CBD\"</td><td>[\"BACDE\", \"CBADF\", \"AECB\", \"BDA\"]</td><td>2</td></tr>"
   ]
  },
  {
   "cell_type": "code",
   "execution_count": 32,
   "metadata": {},
   "outputs": [],
   "source": [
    "def solution(skill, skill_trees):\n",
    "    # skill : 스킬 배우는 순서\n",
    "    # skill_trees : 검증하려고 하는 스킬 트리\n",
    "    answer = len(skill_trees) # 다 된다고 가정\n",
    "    for v in skill_trees: # 스킬트리 하나씩 loop\n",
    "        check = False # 상위 스킬이 있으면 True로 변환 -> True일 때 향후 \n",
    "        for s in skill[::-1]: # 뒤집어서 상위 스킬부터 검증한다\n",
    "            if s in v : #  스킬트리 내에 상위 스킬이 존재하는가?\n",
    "                check = True # 상위스킬 존재함을 boolean으로 입력\n",
    "                v = v[:v.index(s)] # 검증된 부분 앞까지 짤라준다\n",
    "            elif check and not s in v: # 상위스킬이 있는데 하위스킬이 없다?\n",
    "                answer -= 1 # 상위 스킬이 있음에도 하위 스킬이 없으므로 감산\n",
    "                break # 더 이상 볼 필요가 없음 \n",
    "    return answer # 정답 리턴"
   ]
  },
  {
   "cell_type": "code",
   "execution_count": 33,
   "metadata": {},
   "outputs": [
    {
     "data": {
      "text/plain": [
       "2"
      ]
     },
     "execution_count": 33,
     "metadata": {},
     "output_type": "execute_result"
    }
   ],
   "source": [
    "solution(\"CBD\", [\"BACDE\", \"CBADF\", \"AECB\", \"BDA\"])"
   ]
  }
 ],
 "metadata": {
  "kernelspec": {
   "display_name": "Python 3",
   "language": "python",
   "name": "python3"
  },
  "language_info": {
   "codemirror_mode": {
    "name": "ipython",
    "version": 3
   },
   "file_extension": ".py",
   "mimetype": "text/x-python",
   "name": "python",
   "nbconvert_exporter": "python",
   "pygments_lexer": "ipython3",
   "version": "3.7.5"
  }
 },
 "nbformat": 4,
 "nbformat_minor": 2
}
