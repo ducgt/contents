{
 "cells": [
  {
   "cell_type": "markdown",
   "metadata": {},
   "source": [
    "각 종이 조각에 적힌 숫자가 적힌 문자열 numbers가 주어졌을 때,\n",
    "### 종이 조각으로 만들 수 있는 소수가 몇 개인지 return 하도록 solution 함수를 완성해주세요."
   ]
  },
  {
   "cell_type": "code",
   "execution_count": 88,
   "metadata": {},
   "outputs": [],
   "source": [
    "from itertools import permutations\n",
    "import math\n",
    "def solution(numbers):\n",
    "    nset = set()\n",
    "    # 1. 하나씩 붙여서 숫자를 만든다 => 0을 빼준다 => 중복이 없게 하기 위해서 set를 쓴다\n",
    "    for i in range(1, len(numbers) + 1): # 1개뽑은 조합~n개 뽑은 조합\n",
    "        nset.update(list(map(int, (map(''.join, permutations(numbers, i)))))) # set에 순열 만든 걸 넣어준다\n",
    "    # 2. 조합되어서 만들어진 숫자가 소수(솟수)인지 걸러준다\n",
    "    answer = 0 # 소수의 갯수를 받아줄 변수\n",
    "    for n in nset:# 중복값이 없는 숫자 set\n",
    "        if n < 3: continue # 알던 3보단 커야함\n",
    "        max_div = math.sqrt(n) # 약수 최대 한도\n",
    "        if max_div != int(max_div): # 일단 제곱수가 아니고\n",
    "            for i in range(2, math.ceil(max_div)): # 2부터 약수 최대 한도까지 나눈다\n",
    "                if(n % i == 0): # 몫이 0이면 break (더 이상 진행 X)\n",
    "                    break\n",
    "                elif(i == math.ceil(max_div) - 1): # 끝까지 도달했으면 소수로 취급해준다\n",
    "                    answer +=1\n",
    "    return answer"
   ]
  },
  {
   "cell_type": "code",
   "execution_count": 89,
   "metadata": {},
   "outputs": [
    {
     "data": {
      "text/plain": [
       "3"
      ]
     },
     "execution_count": 89,
     "metadata": {},
     "output_type": "execute_result"
    }
   ],
   "source": [
    "solution(\"17\") # 3"
   ]
  },
  {
   "cell_type": "code",
   "execution_count": 90,
   "metadata": {},
   "outputs": [
    {
     "data": {
      "text/plain": [
       "2"
      ]
     },
     "execution_count": 90,
     "metadata": {},
     "output_type": "execute_result"
    }
   ],
   "source": [
    "solution(\"011\") # 2"
   ]
  },
  {
   "cell_type": "markdown",
   "metadata": {},
   "source": [
    "https://programmers.co.kr/learn/courses/4008/lessons/12836"
   ]
  },
  {
   "cell_type": "code",
   "execution_count": 14,
   "metadata": {},
   "outputs": [],
   "source": [
    "def permute(arr):\n",
    "    result = [arr[:]]\n",
    "    c = [0] * len(arr)\n",
    "    i = 0\n",
    "    print(arr[:])\n",
    "    while i < len(arr):\n",
    "        print(i, c[i], c)\n",
    "        if c[i] < i:\n",
    "            if i % 2 == 0:\n",
    "                print(\"짝\", 0, i)\n",
    "                arr[0], arr[i] = arr[i], arr[0]\n",
    "            else:\n",
    "                print(\"홀\", c[i], i)\n",
    "                arr[c[i]], arr[i] = arr[i], arr[c[i]]\n",
    "            print(arr[:])\n",
    "            result.append(arr[:])\n",
    "            c[i] += 1\n",
    "            i = 0\n",
    "        else:\n",
    "            c[i] = 0\n",
    "            i += 1\n",
    "    return result"
   ]
  },
  {
   "cell_type": "code",
   "execution_count": 16,
   "metadata": {},
   "outputs": [
    {
     "name": "stdout",
     "output_type": "stream",
     "text": [
      "[1, 2, 3, 4]\n",
      "0 0 [0, 0, 0, 0]\n",
      "1 0 [0, 0, 0, 0]\n",
      "홀 0 1\n",
      "[2, 1, 3, 4]\n",
      "0 0 [0, 1, 0, 0]\n",
      "1 1 [0, 1, 0, 0]\n",
      "2 0 [0, 0, 0, 0]\n",
      "짝 0 2\n",
      "[3, 1, 2, 4]\n",
      "0 0 [0, 0, 1, 0]\n",
      "1 0 [0, 0, 1, 0]\n",
      "홀 0 1\n",
      "[1, 3, 2, 4]\n",
      "0 0 [0, 1, 1, 0]\n",
      "1 1 [0, 1, 1, 0]\n",
      "2 1 [0, 0, 1, 0]\n",
      "짝 0 2\n",
      "[2, 3, 1, 4]\n",
      "0 0 [0, 0, 2, 0]\n",
      "1 0 [0, 0, 2, 0]\n",
      "홀 0 1\n",
      "[3, 2, 1, 4]\n",
      "0 0 [0, 1, 2, 0]\n",
      "1 1 [0, 1, 2, 0]\n",
      "2 2 [0, 0, 2, 0]\n",
      "3 0 [0, 0, 0, 0]\n",
      "홀 0 3\n",
      "[4, 2, 1, 3]\n",
      "0 0 [0, 0, 0, 1]\n",
      "1 0 [0, 0, 0, 1]\n",
      "홀 0 1\n",
      "[2, 4, 1, 3]\n",
      "0 0 [0, 1, 0, 1]\n",
      "1 1 [0, 1, 0, 1]\n",
      "2 0 [0, 0, 0, 1]\n",
      "짝 0 2\n",
      "[1, 4, 2, 3]\n",
      "0 0 [0, 0, 1, 1]\n",
      "1 0 [0, 0, 1, 1]\n",
      "홀 0 1\n",
      "[4, 1, 2, 3]\n",
      "0 0 [0, 1, 1, 1]\n",
      "1 1 [0, 1, 1, 1]\n",
      "2 1 [0, 0, 1, 1]\n",
      "짝 0 2\n",
      "[2, 1, 4, 3]\n",
      "0 0 [0, 0, 2, 1]\n",
      "1 0 [0, 0, 2, 1]\n",
      "홀 0 1\n",
      "[1, 2, 4, 3]\n",
      "0 0 [0, 1, 2, 1]\n",
      "1 1 [0, 1, 2, 1]\n",
      "2 2 [0, 0, 2, 1]\n",
      "3 1 [0, 0, 0, 1]\n",
      "홀 1 3\n",
      "[1, 3, 4, 2]\n",
      "0 0 [0, 0, 0, 2]\n",
      "1 0 [0, 0, 0, 2]\n",
      "홀 0 1\n",
      "[3, 1, 4, 2]\n",
      "0 0 [0, 1, 0, 2]\n",
      "1 1 [0, 1, 0, 2]\n",
      "2 0 [0, 0, 0, 2]\n",
      "짝 0 2\n",
      "[4, 1, 3, 2]\n",
      "0 0 [0, 0, 1, 2]\n",
      "1 0 [0, 0, 1, 2]\n",
      "홀 0 1\n",
      "[1, 4, 3, 2]\n",
      "0 0 [0, 1, 1, 2]\n",
      "1 1 [0, 1, 1, 2]\n",
      "2 1 [0, 0, 1, 2]\n",
      "짝 0 2\n",
      "[3, 4, 1, 2]\n",
      "0 0 [0, 0, 2, 2]\n",
      "1 0 [0, 0, 2, 2]\n",
      "홀 0 1\n",
      "[4, 3, 1, 2]\n",
      "0 0 [0, 1, 2, 2]\n",
      "1 1 [0, 1, 2, 2]\n",
      "2 2 [0, 0, 2, 2]\n",
      "3 2 [0, 0, 0, 2]\n",
      "홀 2 3\n",
      "[4, 3, 2, 1]\n",
      "0 0 [0, 0, 0, 3]\n",
      "1 0 [0, 0, 0, 3]\n",
      "홀 0 1\n",
      "[3, 4, 2, 1]\n",
      "0 0 [0, 1, 0, 3]\n",
      "1 1 [0, 1, 0, 3]\n",
      "2 0 [0, 0, 0, 3]\n",
      "짝 0 2\n",
      "[2, 4, 3, 1]\n",
      "0 0 [0, 0, 1, 3]\n",
      "1 0 [0, 0, 1, 3]\n",
      "홀 0 1\n",
      "[4, 2, 3, 1]\n",
      "0 0 [0, 1, 1, 3]\n",
      "1 1 [0, 1, 1, 3]\n",
      "2 1 [0, 0, 1, 3]\n",
      "짝 0 2\n",
      "[3, 2, 4, 1]\n",
      "0 0 [0, 0, 2, 3]\n",
      "1 0 [0, 0, 2, 3]\n",
      "홀 0 1\n",
      "[2, 3, 4, 1]\n",
      "0 0 [0, 1, 2, 3]\n",
      "1 1 [0, 1, 2, 3]\n",
      "2 2 [0, 0, 2, 3]\n",
      "3 3 [0, 0, 0, 3]\n",
      "[[1, 2, 3, 4], [2, 1, 3, 4], [3, 1, 2, 4], [1, 3, 2, 4], [2, 3, 1, 4], [3, 2, 1, 4], [4, 2, 1, 3], [2, 4, 1, 3], [1, 4, 2, 3], [4, 1, 2, 3], [2, 1, 4, 3], [1, 2, 4, 3], [1, 3, 4, 2], [3, 1, 4, 2], [4, 1, 3, 2], [1, 4, 3, 2], [3, 4, 1, 2], [4, 3, 1, 2], [4, 3, 2, 1], [3, 4, 2, 1], [2, 4, 3, 1], [4, 2, 3, 1], [3, 2, 4, 1], [2, 3, 4, 1]]\n"
     ]
    }
   ],
   "source": [
    "print(permute([1, 2, 3, 4]))"
   ]
  }
 ],
 "metadata": {
  "kernelspec": {
   "display_name": "Python 3",
   "language": "python",
   "name": "python3"
  },
  "language_info": {
   "codemirror_mode": {
    "name": "ipython",
    "version": 3
   },
   "file_extension": ".py",
   "mimetype": "text/x-python",
   "name": "python",
   "nbconvert_exporter": "python",
   "pygments_lexer": "ipython3",
   "version": "3.7.4"
  }
 },
 "nbformat": 4,
 "nbformat_minor": 2
}
