{
 "cells": [
  {
   "cell_type": "markdown",
   "metadata": {},
   "source": [
    "https://programmers.co.kr/learn/courses/30/lessons/42746?language=python3\n",
    "\n",
    "### 0 또는 양의 정수가 주어졌을 때, 정수를 이어 붙여 만들 수 있는 가장 큰 수를 알아내 주세요.\n",
    "\n",
    "예를 들어, 주어진 정수가 [6, 10, 2]라면 [6102, 6210, 1062, 1026, 2610, 2106]를 만들 수 있고, 이중 가장 큰 수는 6210입니다.\n",
    "\n",
    "0 또는 양의 정수가 담긴 배열 numbers가 매개변수로 주어질 때, 순서를 재배치하여 만들 수 있는 가장 큰 수를 문자열로 바꾸어 return 하도록 solution 함수를 작성해주세요.\n",
    "\n",
    "**제한 사항**\n",
    "* numbers의 길이는 1 이상 100,000 이하입니다.\n",
    "* numbers의 원소는 0 이상 1,000 이하입니다.\n",
    "* 정답이 너무 클 수 있으니 문자열로 바꾸어 return 합니다."
   ]
  },
  {
   "cell_type": "code",
   "execution_count": 38,
   "metadata": {},
   "outputs": [],
   "source": [
    "n1 = [6, 10, 2] #6210\n",
    "n2 = [3, 30, 34, 5, 9] #9534330\n",
    "n3 = [0,0,0,0] #0\n",
    "n4 = [12,121] #12121\n",
    "n5 = [21,212] #21221"
   ]
  },
  {
   "cell_type": "code",
   "execution_count": 96,
   "metadata": {},
   "outputs": [],
   "source": [
    "# 테스트 코드\n",
    "from functools import cmp_to_key\n",
    "def solution(numbers): #최대 O(nlogn) 시간복잡도를 갖는 퀵정렬(파이썬의 기본 sort 방식)으로 정렬해야함 <-> 버블정렬 등 \n",
    "    sort = sorted(list(map(lambda x: str(x), numbers)), # int를 문자열 리스트로 변환함\n",
    "                  key=cmp_to_key(lambda x, y : int(x + y) - int(y + x)), # cmp_to_key로 비교식으로 정렬함 (java처럼)\n",
    "                  reverse=True # 오름차순)\n",
    "    return \"\".join(sort) if sort[0] != \"0\" else \"0\" # 가장 큰 자리가 0이다 = 전체 0이다 이므로 0으로 return하는 조건 추가"
   ]
  },
  {
   "cell_type": "code",
   "execution_count": 96,
   "metadata": {},
   "outputs": [],
   "source": [
    "# 클리어 코드\n",
    "from functools import cmp_to_key\n",
    "def solution(numbers):\n",
    "    sort = sorted(list(map(lambda x: str(x), numbers)),\n",
    "                  key=cmp_to_key(lambda x, y : int(x + y) - int(y + x)), reverse=True)\n",
    "    return \"\".join(sort) if sort[0] != \"0\" else \"0\""
   ]
  },
  {
   "cell_type": "code",
   "execution_count": 95,
   "metadata": {
    "scrolled": true
   },
   "outputs": [
    {
     "name": "stdout",
     "output_type": "stream",
     "text": [
      "6210\n",
      "9534330\n",
      "0\n",
      "12121\n",
      "21221\n"
     ]
    }
   ],
   "source": [
    "print(solution(n1))\n",
    "print(solution(n2))\n",
    "print(solution(n3))\n",
    "print(solution(n4))\n",
    "print(solution(n5))"
   ]
  }
 ],
 "metadata": {
  "kernelspec": {
   "display_name": "Python 3",
   "language": "python",
   "name": "python3"
  },
  "language_info": {
   "codemirror_mode": {
    "name": "ipython",
    "version": 3
   },
   "file_extension": ".py",
   "mimetype": "text/x-python",
   "name": "python",
   "nbconvert_exporter": "python",
   "pygments_lexer": "ipython3",
   "version": "3.7.4"
  }
 },
 "nbformat": 4,
 "nbformat_minor": 2
}
