{
 "cells": [
  {
   "cell_type": "markdown",
   "metadata": {},
   "source": [
    "https://programmers.co.kr/learn/courses/30/lessons/42626"
   ]
  },
  {
   "cell_type": "markdown",
   "metadata": {},
   "source": [
    "매운 것을 좋아하는 Leo는 모든 음식의 스코빌 지수를 K 이상으로 만들고 싶습니다. 모든 음식의 스코빌 지수를 K 이상으로 만들기 위해 Leo는 스코빌 지수가 가장 낮은 두 개의 음식을 아래와 같이 특별한 방법으로 섞어 새로운 음식을 만듭니다.<br>\n",
    "\n",
    "* 섞은 음식의 스코빌 지수 = 가장 맵지 않은 음식의 스코빌 지수 + (두 번째로 맵지 않은 음식의 스코빌 지수 * 2)\n",
    "* Leo는 모든 음식의 스코빌 지수가 K 이상이 될 때까지 반복하여 섞습니다.\n",
    "\n",
    "### Leo가 가진 음식의 스코빌 지수를 담은 배열 scoville과 원하는 스코빌 지수 K가 주어질 때, 모든 음식의 스코빌 지수를 K 이상으로 만들기 위해 섞어야 하는 최소 횟수를 return 하도록 solution 함수를 작성해주세요."
   ]
  },
  {
   "cell_type": "markdown",
   "metadata": {},
   "source": [
    "<tr><td>scoville</td><td>K</td><td>return</td></tr>\n",
    "<tr><td>[1, 2, 3, 9, 10, 12]</td><td>7</td><td>2</td></tr>"
   ]
  },
  {
   "cell_type": "code",
   "execution_count": 1,
   "metadata": {},
   "outputs": [],
   "source": [
    "# 일반적인 구현 (효율성 문제 발생)\n",
    "def solution(scoville, K):\n",
    "    scoville.sort()\n",
    "    answer = 0\n",
    "    while scoville[0] < K and len(scoville) > 1:\n",
    "        answer += 1\n",
    "        scoville.sort()\n",
    "        f1 = scoville.pop(0)\n",
    "        f2 = scoville.pop(0)\n",
    "        scoville.append(f1 + f2 * 2)\n",
    "    return answer if scoville[0] >= K else -1"
   ]
  },
  {
   "cell_type": "code",
   "execution_count": 6,
   "metadata": {},
   "outputs": [
    {
     "data": {
      "text/plain": [
       "2"
      ]
     },
     "execution_count": 6,
     "metadata": {},
     "output_type": "execute_result"
    }
   ],
   "source": [
    "scoville = [1, 2, 3, 9, 10, 12]\n",
    "K = 7\n",
    "solution(scoville, K)"
   ]
  },
  {
   "cell_type": "code",
   "execution_count": 7,
   "metadata": {},
   "outputs": [],
   "source": [
    "# queue를 통해\n",
    "# https://www.daleseo.com/python-heapq/\n",
    "import heapq # heapq import\n",
    "\n",
    "def solution(scoville, K):\n",
    "    answer = 0 # 섞은 횟수 초기화\n",
    "    heapq.heapify(scoville) # heap으로 변환\n",
    "    while scoville[0] < K and len(scoville) != 1: # 최솟값이 K보다 큰가? & scoville이 2개 이상 남았는가?\n",
    "        answer += 1 # 섞은 횟수 카운트 +1\n",
    "        f1 = heapq.heappop(scoville) # 가장 작은 값\n",
    "        f2 = heapq.heappop(scoville) # 그 다음 작은 값\n",
    "        heapq.heappush(scoville, f1 + f2 * 2) # 섞은 것 집어 넣기\n",
    "    return answer if scoville[0] >= K else -1 # 최솟값이 K보다 크지 않으면 -1 리턴"
   ]
  },
  {
   "cell_type": "code",
   "execution_count": 8,
   "metadata": {},
   "outputs": [],
   "source": [
    "# 클린 코드\n",
    "import heapq\n",
    "\n",
    "def solution(scoville, K):\n",
    "    answer = 0\n",
    "    heapq.heapify(scoville)\n",
    "    while scoville[0] < K and len(scoville) != 1:\n",
    "        answer += 1\n",
    "        heapq.heappush(scoville, heapq.heappop(scoville) + heapq.heappop(scoville) * 2)\n",
    "    return answer if scoville[0] >= K else -1"
   ]
  }
 ],
 "metadata": {
  "kernelspec": {
   "display_name": "Python 3",
   "language": "python",
   "name": "python3"
  },
  "language_info": {
   "codemirror_mode": {
    "name": "ipython",
    "version": 3
   },
   "file_extension": ".py",
   "mimetype": "text/x-python",
   "name": "python",
   "nbconvert_exporter": "python",
   "pygments_lexer": "ipython3",
   "version": "3.7.4"
  }
 },
 "nbformat": 4,
 "nbformat_minor": 2
}
