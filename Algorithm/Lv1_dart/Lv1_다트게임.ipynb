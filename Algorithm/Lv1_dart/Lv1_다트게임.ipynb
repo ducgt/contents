{
 "cells": [
  {
   "cell_type": "markdown",
   "metadata": {},
   "source": [
    "1. 다트 게임은 총 3번의 기회로 구성된다.\n",
    "1. 각 기회마다 얻을 수 있는 점수는 0점에서 10점까지이다.\n",
    "1. 점수와 함께 Single(S), Double(D), Triple(T) 영역이 존재하고 각 영역 당첨 시 점수에서 1제곱, 2제곱, 3제곱 (점수1 , 점수2 , 점수3 )으로 계산된다.\n",
    "1. 옵션으로 스타상(\\*) , 아차상(#)이 존재하며 스타상(\\*) 당첨 시 해당 점수와 바로 전에 얻은 점수를 각 2배로 만든다. 아차상(#) 당첨 시 해당 점수는 마이너스된다.\n",
    "1. 스타상(\\*)은 첫 번째 기회에서도 나올 수 있다. 이 경우 첫 번째 스타상(\\*)의 점수만 2배가 된다. (예제 4번 참고)\n",
    "1. 스타상(\\*)의 효과는 다른 스타상(\\*)의 효과와 중첩될 수 있다. 이 경우 중첩된 스타상(\\*) 점수는 4배가 된다. (예제 4번 참고)\n",
    "1. 스타상(\\*)의 효과는 아차상(#)의 효과와 중첩될 수 있다. 이 경우 중첩된 아차상(#)의 점수는 -2배가 된다. (예제 5번 참고)\n",
    "1. Single(S), Double(D), Triple(T)은 점수마다 하나씩 존재한다.\n",
    "1. 스타상(\\*), 아차상(#)은 점수마다 둘 중 하나만 존재할 수 있으며, 존재하지 않을 수도 있다.\n",
    "### 0~10의 정수와 문자 S, D, T, \\*, #로 구성된 문자열이 입력될 시 총점수를 반환하는 함수를 작성하라."
   ]
  },
  {
   "cell_type": "code",
   "execution_count": 5,
   "metadata": {},
   "outputs": [],
   "source": [
    "from functools import reduce\n",
    "def solution(dartResult):\n",
    "    cal = []\n",
    "    tmp = \"\"\n",
    "    for v in dartResult:\n",
    "        if not v.isdigit(): # 숫자인가? (정확한 건 decimal - int 변환 고려시)\n",
    "            if tmp != \"\" :\n",
    "                cal.append(int(tmp))\n",
    "                tmp = \"\"\n",
    "            if v == \"D\": cal[-1] = cal[-1] ** 2 # 제곱\n",
    "            elif v == \"T\": cal[-1] = cal[-1] ** 3 # 세제곱\n",
    "            elif v == \"#\": cal[-1] = cal[-1] * -1 # 아차상\n",
    "            elif v == \"*\":\n",
    "                cal[-1] = cal[-1] * 2 # 2배 효과\n",
    "                if(len(cal) != 1):\n",
    "                    cal[-2] = cal[-2] * 2 # 1이 아닐 때\n",
    "        else:\n",
    "            tmp += v\n",
    "#     print(cal)\n",
    "    return reduce(lambda x, y: x+y, cal)"
   ]
  },
  {
   "cell_type": "code",
   "execution_count": 6,
   "metadata": {},
   "outputs": [
    {
     "data": {
      "text/plain": [
       "37"
      ]
     },
     "execution_count": 6,
     "metadata": {},
     "output_type": "execute_result"
    }
   ],
   "source": [
    "solution(\"1S2D*3T\")"
   ]
  }
 ],
 "metadata": {
  "kernelspec": {
   "display_name": "Python 3",
   "language": "python",
   "name": "python3"
  },
  "language_info": {
   "codemirror_mode": {
    "name": "ipython",
    "version": 3
   },
   "file_extension": ".py",
   "mimetype": "text/x-python",
   "name": "python",
   "nbconvert_exporter": "python",
   "pygments_lexer": "ipython3",
   "version": "3.7.4"
  }
 },
 "nbformat": 4,
 "nbformat_minor": 2
}
