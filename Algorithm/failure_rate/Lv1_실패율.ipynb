{
 "cells": [
  {
   "cell_type": "markdown",
   "metadata": {},
   "source": [
    "https://programmers.co.kr/learn/courses/30/lessons/42889\n",
    "\n",
    "실패율은 다음과 같이 정의한다.<br>\n",
    "\n",
    "*스테이지에 도달했으나 아직 클리어하지 못한 플레이어의 수 / 스테이지에 도달한 플레이어 수*<br>\n",
    "### 전체 스테이지의 개수 N, 게임을 이용하는 사용자가 현재 멈춰있는 스테이지의 번호가 담긴 배열 stages가 매개변수로 주어질 때, 실패율이 높은 스테이지부터 내림차순으로 스테이지의 번호가 담겨있는 배열을 return 하도록 solution 함수를 완성하라."
   ]
  },
  {
   "cell_type": "markdown",
   "metadata": {},
   "source": [
    "<tr><td>N</td><td>stages</td><td>result</td></tr>\n",
    "<tr><td>5</td><td>[2, 1, 2, 6, 2, 4, 3, 3]</td><td>[3,4,2,1,5]</td></tr>\n",
    "<tr><td>4</td><td>[4,4,4,4,4]</td><td>[4,1,2,3]</td></tr>"
   ]
  },
  {
   "cell_type": "code",
   "execution_count": 40,
   "metadata": {},
   "outputs": [],
   "source": [
    "# 테스트 코드\n",
    "def solution(n, stages):\n",
    "    answer = [] # 정답을 받아주는 리스트\n",
    "    for i in range(1, n+1): # 1부터 n까지 스테이지별로 돌려주는 for문\n",
    "        unclear = len(list(filter(lambda x: x == i, stages))) # 클리어 못한 (i스테이지의 체류 중인 인원) filter\n",
    "        arrive = len(list(filter(lambda x: x >= i, stages))) # i스테이지를 거쳐간 인원 filter\n",
    "        print(i, \"실패\", unclear, \"도착\", arrive)\n",
    "        answer.append((i, unclear / arrive if arrive != 0 else 0)) # 도착하지도 못한 경우 0처리, 나머지는 실패 / 도착\n",
    "    return list(map(lambda x: x[0], sorted(answer, key=lambda x: x[1], reverse=True)))\n",
    "    # 실패율 기준으로 내림차순 sort하고 다시 스테이지 number만 남기게 mapping"
   ]
  },
  {
   "cell_type": "code",
   "execution_count": 73,
   "metadata": {},
   "outputs": [],
   "source": [
    "n = 5\n",
    "stages = [2, 1, 2, 6, 2, 4, 3, 3]"
   ]
  },
  {
   "cell_type": "code",
   "execution_count": 77,
   "metadata": {},
   "outputs": [],
   "source": [
    "n = 4\n",
    "stages = [4, 4, 4, 4, 4]"
   ]
  },
  {
   "cell_type": "code",
   "execution_count": 78,
   "metadata": {},
   "outputs": [
    {
     "data": {
      "text/plain": [
       "[4, 1, 2, 3]"
      ]
     },
     "execution_count": 78,
     "metadata": {},
     "output_type": "execute_result"
    }
   ],
   "source": [
    "solution(n, stages)"
   ]
  },
  {
   "cell_type": "code",
   "execution_count": 40,
   "metadata": {},
   "outputs": [],
   "source": [
    "# 시간 초과 문제 -> 반복적인 filter. (이미 배제된 것들도 반복하고 있음)\n",
    "def solution(n, stages):\n",
    "    answer = []\n",
    "    for i in range(1, n+1):\n",
    "        arrive = len(list(filter(lambda x: x >= i, stages)))\n",
    "        answer.append((i, len(list(filter(lambda x: x == i, stages))) / arrive if arrive != 0 else 0))\n",
    "    return list(map(lambda x: x[0], sorted(answer, key=lambda x: x[1], reverse=True)))"
   ]
  },
  {
   "cell_type": "code",
   "execution_count": null,
   "metadata": {},
   "outputs": [],
   "source": [
    "# 개선 -> 이미 지나간 스테이지의 경우 제거해버림 -> 그래도 실패함\n",
    "def solution(n, stages):\n",
    "    answer = []\n",
    "    for i in range(1, n+1):\n",
    "        unclear = len(list(filter(lambda x: x == i, stages)))\n",
    "        stages = list(filter(lambda x: x > i, stages)) \n",
    "        arrive = len(stages) + unclear\n",
    "        answer.append((i, unclear / arrive if arrive != 0 else 0))\n",
    "    return list(map(lambda x: x[0], sorted(answer, key=lambda x: x[1], reverse=True)))"
   ]
  },
  {
   "cell_type": "code",
   "execution_count": 42,
   "metadata": {},
   "outputs": [],
   "source": [
    "# 클리어 코드\n",
    "def solution(n, stages):\n",
    "    answer = []\n",
    "    for i in range(1, n+1):\n",
    "        old = len(stages)\n",
    "        stages = list(filter(lambda x: x > i, stages))\n",
    "        new = len(stages)\n",
    "        answer.append((i, (old - new) / old if old != 0 else 0))\n",
    "    return list(map(lambda x: x[0], sorted(answer, key=lambda x: x[1], reverse=True)))"
   ]
  },
  {
   "cell_type": "code",
   "execution_count": 75,
   "metadata": {},
   "outputs": [],
   "source": [
    "# 클리어 코드 2 (Counter 패키지 활용을 통한 효율성 개선)\n",
    "from collections import Counter\n",
    "def solution(n, stages):\n",
    "    answer = []\n",
    "    count = len(stages)\n",
    "    counted = dict(Counter(stages))\n",
    "    for i in range(1, n+1):\n",
    "        old = count\n",
    "        if i in counted:\n",
    "            count -= counted[i]\n",
    "        new = count\n",
    "        answer.append((i, (old - new) / old if old != 0 else 0))\n",
    "    return list(map(lambda x: x[0], sorted(answer, key=lambda x: x[1], reverse=True)))"
   ]
  }
 ],
 "metadata": {
  "kernelspec": {
   "display_name": "Python 3",
   "language": "python",
   "name": "python3"
  },
  "language_info": {
   "codemirror_mode": {
    "name": "ipython",
    "version": 3
   },
   "file_extension": ".py",
   "mimetype": "text/x-python",
   "name": "python",
   "nbconvert_exporter": "python",
   "pygments_lexer": "ipython3",
   "version": "3.7.4"
  }
 },
 "nbformat": 4,
 "nbformat_minor": 2
}
