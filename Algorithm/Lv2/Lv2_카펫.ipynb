{
 "cells": [
  {
   "cell_type": "markdown",
   "metadata": {},
   "source": [
    "https://programmers.co.kr/learn/courses/30/lessons/42842"
   ]
  },
  {
   "cell_type": "markdown",
   "metadata": {},
   "source": [
    "* Leo는 카펫을 사러 갔다가 중앙에는 빨간색으로 칠해져 있고 모서리는 갈색으로 칠해져 있는 격자 모양 카펫을 봤습니다.\n",
    "* 카펫의 가로 길이는 세로 길이와 같거나, 세로 길이보다 깁니다.\n",
    "* Leo가 본 카펫에서 갈색 격자의 수 brown, 빨간색 격자의 수 red가 매개변수로 주어질 때\n",
    "### 카펫의 가로, 세로 크기를 순서대로 배열에 담아 return 하도록 solution 함수를 작성해주세요."
   ]
  },
  {
   "cell_type": "markdown",
   "metadata": {},
   "source": [
    "<tr><td>brown</td><td>red</td><td>return</td></tr>\n",
    "<tr><td>10</td><td>2</td><td>[4, 3]</td></tr>\n",
    "<tr><td>8</td><td>1</td><td>[3, 3]</td></tr>\n",
    "<tr><td>24</td><td>24</td><td>[8, 6]</td></tr>"
   ]
  },
  {
   "cell_type": "markdown",
   "metadata": {},
   "source": [
    "완전탐색 : https://brenden.tistory.com/10"
   ]
  },
  {
   "cell_type": "code",
   "execution_count": 68,
   "metadata": {},
   "outputs": [],
   "source": [
    "import math\n",
    "def solution(brown, red):\n",
    "    '''\n",
    "    1 / w * h = brown + red\n",
    "    2 / w >= h 이기 때문에, h의 최댓값은 brown + red의 제곱근\n",
    "    '''\n",
    "    size = brown + red # 카펫의 넓이 = w*h\n",
    "    max_h = math.sqrt(size) # w >= h 이기 때문에, w=h 즉 정수가 될때가 h의 최댓값\n",
    "#    print(max_h)\n",
    "    if max_h == int(max_h): # 정수라면 w=h\n",
    "        return [int(max_h), int(max_h)] # 해당 값을 리턴\n",
    "    for h in reversed(range(3, math.ceil(max_h))): # max_h를 올림한 값부터 range해서 검증한다\n",
    "        dm = divmod(size, h)\n",
    "#         print(dm)\n",
    "        if dm[1] == 0 and (dm[0] - 2) * (h - 2) == red  : # 높이 나눴을 때 정수의 해가 나온다면 + red의 갯수가 맞다면\n",
    "            return [int(size / h), h] # 해당 높이와 너비를 리턴해준다"
   ]
  },
  {
   "cell_type": "code",
   "execution_count": 69,
   "metadata": {},
   "outputs": [
    {
     "name": "stdout",
     "output_type": "stream",
     "text": [
      "(4, 0)\n"
     ]
    },
    {
     "data": {
      "text/plain": [
       "[4, 3]"
      ]
     },
     "execution_count": 69,
     "metadata": {},
     "output_type": "execute_result"
    }
   ],
   "source": [
    "solution(10, 2)"
   ]
  },
  {
   "cell_type": "code",
   "execution_count": 70,
   "metadata": {},
   "outputs": [
    {
     "data": {
      "text/plain": [
       "[3, 3]"
      ]
     },
     "execution_count": 70,
     "metadata": {},
     "output_type": "execute_result"
    }
   ],
   "source": [
    "solution(8, 1)"
   ]
  },
  {
   "cell_type": "code",
   "execution_count": 71,
   "metadata": {},
   "outputs": [
    {
     "name": "stdout",
     "output_type": "stream",
     "text": [
      "(8, 0)\n"
     ]
    },
    {
     "data": {
      "text/plain": [
       "[8, 6]"
      ]
     },
     "execution_count": 71,
     "metadata": {},
     "output_type": "execute_result"
    }
   ],
   "source": [
    "solution(24, 24)"
   ]
  }
 ],
 "metadata": {
  "kernelspec": {
   "display_name": "Python 3",
   "language": "python",
   "name": "python3"
  },
  "language_info": {
   "codemirror_mode": {
    "name": "ipython",
    "version": 3
   },
   "file_extension": ".py",
   "mimetype": "text/x-python",
   "name": "python",
   "nbconvert_exporter": "python",
   "pygments_lexer": "ipython3",
   "version": "3.7.5"
  }
 },
 "nbformat": 4,
 "nbformat_minor": 2
}
