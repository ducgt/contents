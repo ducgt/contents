{
 "cells": [
  {
   "cell_type": "markdown",
   "metadata": {},
   "source": [
    "https://programmers.co.kr/learn/courses/30/lessons/12953"
   ]
  },
  {
   "cell_type": "markdown",
   "metadata": {},
   "source": [
    "### n개의 숫자를 담은 배열 arr이 입력되었을 때 이 수들의 최소공배수를 반환하는 함수, solution을 완성해 주세요."
   ]
  },
  {
   "cell_type": "code",
   "execution_count": 24,
   "metadata": {},
   "outputs": [],
   "source": [
    "from math import gcd # 최대공약수를 구하는 gcd는 모듈은 이미 존재\n",
    "\n",
    "def solution(arr):\n",
    "    # 최소공배수(lcm) = a * b / gcd(a, b)\n",
    "    lcm = 1 # 곱셉이므로 1부터 시작\n",
    "    for a in arr:\n",
    "#        print(\"기존 lcm\", lcm)\n",
    "#        print(\"새로운 숫자\", a)\n",
    "#        print(\"새로운 gcd\", gcd(lcm, a))\n",
    "        lcm = int(lcm * a / gcd (lcm, a)) # 자꾸 lcm이 float가 되는 문제 해결하기 위해\n",
    "        # 또는 // 연산자로 몫만 남기던가 (양의 정수로 표현)\n",
    "    return lcm"
   ]
  },
  {
   "cell_type": "code",
   "execution_count": 22,
   "metadata": {},
   "outputs": [
    {
     "data": {
      "text/plain": [
       "168"
      ]
     },
     "execution_count": 22,
     "metadata": {},
     "output_type": "execute_result"
    }
   ],
   "source": [
    "solution([2,6,8,14]) # 168"
   ]
  },
  {
   "cell_type": "code",
   "execution_count": 23,
   "metadata": {},
   "outputs": [
    {
     "data": {
      "text/plain": [
       "6"
      ]
     },
     "execution_count": 23,
     "metadata": {},
     "output_type": "execute_result"
    }
   ],
   "source": [
    "solution([1,2,3]) # 6"
   ]
  }
 ],
 "metadata": {
  "kernelspec": {
   "display_name": "Python 3",
   "language": "python",
   "name": "python3"
  },
  "language_info": {
   "codemirror_mode": {
    "name": "ipython",
    "version": 3
   },
   "file_extension": ".py",
   "mimetype": "text/x-python",
   "name": "python",
   "nbconvert_exporter": "python",
   "pygments_lexer": "ipython3",
   "version": "3.7.5"
  }
 },
 "nbformat": 4,
 "nbformat_minor": 2
}
