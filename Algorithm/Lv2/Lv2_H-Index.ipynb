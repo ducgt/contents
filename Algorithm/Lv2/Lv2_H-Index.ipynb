{
 "cells": [
  {
   "cell_type": "markdown",
   "metadata": {},
   "source": [
    "https://programmers.co.kr/learn/courses/30/lessons/42747"
   ]
  },
  {
   "cell_type": "markdown",
   "metadata": {},
   "source": [
    "H-Index는 과학자의 생산성과 영향력을 나타내는 지표입니다. 어느 과학자의 H-Index를 나타내는 값인 h를 구하려고 합니다. 위키백과1에 따르면, H-Index는 다음과 같이 구합니다.\n",
    "\n",
    "어떤 과학자가 발표한 논문 n편 중, h번 이상 인용된 논문이 h편 이상이고 나머지 논문이 h번 이하 인용되었다면 h가 이 과학자의 H-Index입니다.\n",
    "\n",
    "### 어떤 과학자가 발표한 논문의 인용 횟수를 담은 배열 citations가 매개변수로 주어질 때, 이 과학자의 H-Index를 return 하도록 solution 함수를 작성해주세요."
   ]
  },
  {
   "cell_type": "markdown",
   "metadata": {},
   "source": [
    "<tr><td><b>citations</b></td><td><b>return</b></td></tr>\n",
    "<tr><td>[3, 0, 6, 1, 5]</td><td>3</td></tr>\n",
    "<tr><td>[22, 42]</td><td>2</td></tr>\n",
    "<tr><td>[20, 19, 18, 1]</td><td>3</td></tr>"
   ]
  },
  {
   "cell_type": "code",
   "execution_count": 31,
   "metadata": {},
   "outputs": [],
   "source": [
    "from collections import Counter \n",
    "def solution(c):\n",
    "    c.sort(reverse=True)\n",
    "    if c[0] == 0: return 0\n",
    "    n = len(c)\n",
    "    d = dict(Counter(c))\n",
    "    r = []\n",
    "    for i in range(0, n+1):\n",
    "#        print(n)\n",
    "        if i <= n:\n",
    "            r.append(i)\n",
    "        if i in d:\n",
    "            n -= d[i]\n",
    "    return max(r)"
   ]
  },
  {
   "cell_type": "code",
   "execution_count": 33,
   "metadata": {},
   "outputs": [
    {
     "name": "stdout",
     "output_type": "stream",
     "text": [
      "3\n",
      "2\n",
      "3\n"
     ]
    }
   ],
   "source": [
    "print(solution([3, 0, 6, 1, 5]))\n",
    "print(solution([22, 42]))\n",
    "print(solution([20, 19, 18, 1]))"
   ]
  }
 ],
 "metadata": {
  "kernelspec": {
   "display_name": "Python 3",
   "language": "python",
   "name": "python3"
  },
  "language_info": {
   "codemirror_mode": {
    "name": "ipython",
    "version": 3
   },
   "file_extension": ".py",
   "mimetype": "text/x-python",
   "name": "python",
   "nbconvert_exporter": "python",
   "pygments_lexer": "ipython3",
   "version": "3.7.4"
  }
 },
 "nbformat": 4,
 "nbformat_minor": 2
}
