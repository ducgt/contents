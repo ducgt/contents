{
 "cells": [
  {
   "cell_type": "markdown",
   "metadata": {},
   "source": [
    "https://programmers.co.kr/learn/courses/30/lessons/42891"
   ]
  },
  {
   "cell_type": "code",
   "execution_count": null,
   "metadata": {},
   "outputs": [],
   "source": [
    "# 뭔가 불완전한 코드\n",
    "import numpy as np\n",
    "def solution(food_times, k):\n",
    "    answer = 0\n",
    "    le = len(food_times)\n",
    "    if le == 0: return -1\n",
    "    farr = np.array(food_times)\n",
    "    for i in range(k+1):\n",
    "#        print(i, answer, farr)\n",
    "        if np.sum(farr) == 0:\n",
    "            return -1\n",
    "        while farr[answer] == 0:\n",
    "            answer += 1\n",
    "            answer %= le\n",
    "        farr[answer] -= 1\n",
    "        answer += 1\n",
    "        answer %= le\n",
    "    return answer if np.max(farr) != 0 else -1"
   ]
  },
  {
   "cell_type": "markdown",
   "metadata": {},
   "source": [
    "https://jeongchul.tistory.com/655"
   ]
  },
  {
   "cell_type": "code",
   "execution_count": 32,
   "metadata": {},
   "outputs": [],
   "source": [
    "from queue import PriorityQueue # 우선순위 queue를 통한 풀이\n",
    "# http://www.daleseo.com/python-priority-queue/ (사용법 참조)\n",
    "def solution(food_times, k):\n",
    "    if sum(food_times) <= k: return -1\n",
    "    # 음식을 먹는 시간을 다 더해도 k를 못 넘길 경우 : 어차피 -1 리턴\n",
    "    \n",
    "    answer = 0 # 답 초기화\n",
    "    pq = PriorityQueue() # 우선순위 queue (put -> get ~ 가장 작은 값을 제거)\n",
    "    length = len(food_times) # 남은 음식의 가짓수\n",
    "    for i in range(length): \n",
    "        pq.put((food_times[i], i+1)) # for문을 돌려서 소요시간과 음식 idx 맵핑\n",
    "#    print(pq.queue)\n",
    "    \n",
    "    sum_value = 0 # 먹방한 초\n",
    "    prev = 0 # 마지막으로 다 먹은 음식 초값 (얼만큼 round 돌았나)\n",
    "    \n",
    "    while ((pq.queue[0][0] - prev) * length) <= k - sum_value:\n",
    "    # 정전 시간 전에 다 먹을 수 있나? 계속 검증 (먹을 수 없다면...)\n",
    "        now = pq.get()[0] # 한 바퀴를 돌았기 때문에 가장 작은 값을 줄인다\n",
    "        sum_value += (now - prev) * length # round 돌은만큼 \n",
    "        length -= 1 # 길이가 줄어든다\n",
    "        prev = now # 가장 작은 값이 기준이 되어 모두에게 뺀 효과\n",
    "#        print(pq.queue)\n",
    "    \n",
    "    result = sorted(pq.queue, key=lambda x:x[1])\n",
    "    # 남은 요소들을 우선순위 기준으로 재정렬 = 남은 음식들 번호\n",
    "\n",
    "    return result[(k - sum_value) % len(pq.queue)][1]\n",
    "    #  정전되기 직전 회차에서의 음식 먹는 순서"
   ]
  },
  {
   "cell_type": "code",
   "execution_count": 31,
   "metadata": {},
   "outputs": [
    {
     "name": "stdout",
     "output_type": "stream",
     "text": [
      "[(1, 2), (3, 1), (2, 3)]\n",
      "[(2, 3), (3, 1)]\n",
      "[(3, 1)]\n"
     ]
    },
    {
     "data": {
      "text/plain": [
       "1"
      ]
     },
     "execution_count": 31,
     "metadata": {},
     "output_type": "execute_result"
    }
   ],
   "source": [
    "solution([3, 1, 2], 5) # 1"
   ]
  }
 ],
 "metadata": {
  "kernelspec": {
   "display_name": "Python 3",
   "language": "python",
   "name": "python3"
  },
  "language_info": {
   "codemirror_mode": {
    "name": "ipython",
    "version": 3
   },
   "file_extension": ".py",
   "mimetype": "text/x-python",
   "name": "python",
   "nbconvert_exporter": "python",
   "pygments_lexer": "ipython3",
   "version": "3.7.5"
  }
 },
 "nbformat": 4,
 "nbformat_minor": 2
}
