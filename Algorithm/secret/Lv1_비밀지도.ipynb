{
 "cells": [
  {
   "cell_type": "markdown",
   "metadata": {},
   "source": [
    "https://programmers.co.kr/learn/courses/30/lessons/17681?language=python3\n",
    "\n",
    "1. 지도는 한 변의 길이가 n인 정사각형 배열 형태로, 각 칸은 공백(\" ) 또는벽(#\") 두 종류로 이루어져 있다.\n",
    "1. **전체 지도는 두 장의 지도를 겹쳐서 얻을 수 있다.** 각각 지도 1과 지도 2라고 하자. 지도 1 또는 지도 2 중 어느 하나라도 벽인 부분은 전체 지도에서도 벽이다. 지도 1과 지도 2에서 모두 공백인 부분은 전체 지도에서도 공백이다.\n",
    "1. 지도 1과 지도 2는 각각 정수 배열로 암호화되어 있다.\n",
    "1. 암호화된 배열은 지도의 각 가로줄에서 벽 부분을 1, 공백 부분을 0으로 부호화했을 때 얻어지는 **이진수에 해당하는 값의 배열**이다.\n",
    "\n",
    "### 원래의 비밀지도를 해독하여 '#', 공백으로 구성된 문자열 배열로 출력하라."
   ]
  },
  {
   "cell_type": "code",
   "execution_count": 55,
   "metadata": {},
   "outputs": [],
   "source": [
    "# 테스트 코드\n",
    "def solution(n, arr1, arr2):\n",
    "    result = [[\"\" for x in range(0, n)] for y in range(0, n)] # 답안을 받아줄 빈 배열 만들기\n",
    "    print(result)\n",
    "    bin1 = [[int(i) for i in (\"0\"*n + format(v, 'b'))[-n:]] for v in arr1] # 지도1 이진법 배열 - format 또는 bin 사용\n",
    "    print(bin1)\n",
    "    bin2 = [[int(i) for i in (\"0\"*n + format(v, 'b'))[-n:]] for v in arr2] # 지도2 이진법 배열 - ;;\n",
    "    print(bin2)\n",
    "    for x in range(0, n): # 이중 포문으로\n",
    "        for y in range(0, n): # 이중 배열의 좌표 처리\n",
    "            result[x][y] = \"#\" if bin1[x][y] + bin2[x][y] > 0 else \" \" # 둘을 더했을 때 0보다 크면 #(둘 중에 하나라도) 아니면 \" \"\n",
    "    return list(map(lambda x: ''.join(x), result)) # 람다식으로 스트링으로 합쳐진 것을 리턴하도록 맵핑"
   ]
  },
  {
   "cell_type": "code",
   "execution_count": 26,
   "metadata": {},
   "outputs": [],
   "source": [
    "n = 5\n",
    "arr1 = [9, 20, 28, 18, 11]\n",
    "arr2 = [30, 1, 21, 17, 28]"
   ]
  },
  {
   "cell_type": "code",
   "execution_count": 56,
   "metadata": {
    "scrolled": true
   },
   "outputs": [
    {
     "name": "stdout",
     "output_type": "stream",
     "text": [
      "[['', '', '', '', ''], ['', '', '', '', ''], ['', '', '', '', ''], ['', '', '', '', ''], ['', '', '', '', '']]\n",
      "[[0, 1, 0, 0, 1], [1, 0, 1, 0, 0], [1, 1, 1, 0, 0], [1, 0, 0, 1, 0], [0, 1, 0, 1, 1]]\n",
      "[[1, 1, 1, 1, 0], [0, 0, 0, 0, 1], [1, 0, 1, 0, 1], [1, 0, 0, 0, 1], [1, 1, 1, 0, 0]]\n"
     ]
    },
    {
     "data": {
      "text/plain": [
       "['#####', '# # #', '### #', '#  ##', '#####']"
      ]
     },
     "execution_count": 56,
     "metadata": {},
     "output_type": "execute_result"
    }
   ],
   "source": [
    "solution(n, arr1, arr2)"
   ]
  },
  {
   "cell_type": "code",
   "execution_count": 55,
   "metadata": {},
   "outputs": [],
   "source": [
    "# 클리어 코드\n",
    "def solution(n, arr1, arr2):\n",
    "    result = [[\"\" for x in range(0, n)] for y in range(0, n)]\n",
    "    bin1 = [[int(i) for i in (\"0\"*n + format(v, 'b'))[-n:]] for v in arr1]\n",
    "    bin2 = [[int(i) for i in (\"0\"*n + format(v, 'b'))[-n:]] for v in arr2]\n",
    "    for x in range(0, n):\n",
    "        for y in range(0, n):\n",
    "            result[x][y] = \"#\" if bin1[x][y] + bin2[x][y] > 0 else \" \"\n",
    "    return list(map(lambda x: ''.join(x), result))"
   ]
  }
 ],
 "metadata": {
  "kernelspec": {
   "display_name": "Python 3",
   "language": "python",
   "name": "python3"
  },
  "language_info": {
   "codemirror_mode": {
    "name": "ipython",
    "version": 3
   },
   "file_extension": ".py",
   "mimetype": "text/x-python",
   "name": "python",
   "nbconvert_exporter": "python",
   "pygments_lexer": "ipython3",
   "version": "3.7.4"
  }
 },
 "nbformat": 4,
 "nbformat_minor": 2
}
