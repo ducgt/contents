{
 "cells": [
  {
   "cell_type": "markdown",
   "metadata": {},
   "source": [
    "## 문제1\n",
    "육아에 지친 Dragon씨는 파이썬 프로그램으로 대신 노래를 불러주게 하고 싶어합니다.<br>\n",
    "기본적으로 라인별로 불러주되, 같은 음절이 반복될 경우 (ex. 꽥괙괙꽥...)<br>\n",
    "한 단어씩 끊어서 출력하고 싶다고 합니다. 이를 반영한 함수를 만들어주세요."
   ]
  },
  {
   "cell_type": "code",
   "execution_count": 3,
   "metadata": {},
   "outputs": [],
   "source": [
    "lyrics = '''엄마 개구리가 노래 부른다.\n",
    "꽥꽥꽥꽥꽥꽥꽥꽥꽥꽥꽥꽥\n",
    "이야이야요 이야이야요\n",
    "이야이야 이야이야 이야이야요\n",
    "\n",
    "아기 개구리가 노래 부른다.\n",
    "꽥꽥꽥꽥꽥꽥꽥꽥꽥꽥꽥꽥\n",
    "이야이야요 이야이야요\n",
    "이야이야 이야이야 이야이야요\n",
    "\n",
    "아빠 개구리도 노래 부른다.\n",
    "골골골골골골골골골골골골\n",
    "이야이야요 이야이야요\n",
    "이야이야 이야이야 이야이야요\n",
    "'''"
   ]
  },
  {
   "cell_type": "code",
   "execution_count": 14,
   "metadata": {},
   "outputs": [],
   "source": [
    "# 문제\n",
    "def song(data):\n",
    "    print(data)"
   ]
  },
  {
   "cell_type": "code",
   "execution_count": 14,
   "metadata": {},
   "outputs": [],
   "source": [
    "# 답\n",
    "def song(data):\n",
    "    lines = data.split(\"\\n\")\n",
    "    for line in lines:\n",
    "        for i in range(0, len(line)):\n",
    "            try:\n",
    "                if line[i] == line[i+1]:\n",
    "                    print(line[i])\n",
    "                else:\n",
    "                    print(line[i], end='')\n",
    "            except:\n",
    "                print(line[i])"
   ]
  },
  {
   "cell_type": "code",
   "execution_count": 4,
   "metadata": {
    "scrolled": false
   },
   "outputs": [
    {
     "name": "stdout",
     "output_type": "stream",
     "text": [
      "엄마 개구리가 노래 부른다.\n",
      "꽥\n",
      "꽥\n",
      "꽥\n",
      "꽥\n",
      "꽥\n",
      "꽥\n",
      "꽥\n",
      "꽥\n",
      "꽥\n",
      "꽥\n",
      "꽥\n",
      "꽥\n",
      "이야이야요 이야이야요\n",
      "이야이야 이야이야 이야이야요\n",
      "아기 개구리가 노래 부른다.\n",
      "꽥\n",
      "꽥\n",
      "꽥\n",
      "꽥\n",
      "꽥\n",
      "꽥\n",
      "꽥\n",
      "꽥\n",
      "꽥\n",
      "꽥\n",
      "꽥\n",
      "꽥\n",
      "이야이야요 이야이야요\n",
      "이야이야 이야이야 이야이야요\n",
      "아빠 개구리도 노래 부른다.\n",
      "골\n",
      "골\n",
      "골\n",
      "골\n",
      "골\n",
      "골\n",
      "골\n",
      "골\n",
      "골\n",
      "골\n",
      "골\n",
      "골\n",
      "이야이야요 이야이야요\n",
      "이야이야 이야이야 이야이야요\n"
     ]
    }
   ],
   "source": [
    "# 결과\n",
    "song(lyrics)"
   ]
  },
  {
   "cell_type": "markdown",
   "metadata": {},
   "source": [
    "## 문제2\n",
    "아래는 '두 정수 사이의 합'을 풀기 위해 작성한 JavaScript Code입니다. 이를 파이썬 코드로 바꾸어주세요.<br>\n",
    "https://programmers.co.kr/learn/courses/30/lessons/12912"
   ]
  },
  {
   "cell_type": "code",
   "execution_count": null,
   "metadata": {},
   "outputs": [],
   "source": [
    "# 문제\n",
    "'''\n",
    "function solution(a, b) {\n",
    "    let answer = 0;\n",
    "    if(a > b) {\n",
    "        let tmp = a;\n",
    "        a = b;\n",
    "        b = tmp;\n",
    "    }\n",
    "    for(let i = a; i <= b; i++) {\n",
    "        answer += i;\n",
    "    }\n",
    "    return answer;\n",
    "}\n",
    "'''"
   ]
  },
  {
   "cell_type": "code",
   "execution_count": null,
   "metadata": {},
   "outputs": [],
   "source": [
    "# 답\n",
    "def solution(a, b):\n",
    "    answer = 0\n",
    "    if a > b:\n",
    "        tmp = a;\n",
    "        a = b;\n",
    "        b = tmp\n",
    "    for i in range(a, b+1):\n",
    "        answer += i\n",
    "    return answer"
   ]
  },
  {
   "cell_type": "code",
   "execution_count": 8,
   "metadata": {},
   "outputs": [
    {
     "name": "stdout",
     "output_type": "stream",
     "text": [
      "12 84 200\n"
     ]
    }
   ],
   "source": [
    "# 결과\n",
    "print(solution(3, 5), solution(7, 14), solution(5, 20))"
   ]
  },
  {
   "cell_type": "markdown",
   "metadata": {},
   "source": [
    "## 문제3\n",
    "2016년 데뷔한 I.O.I는 프로젝트 그룹으로 현재 소속 아티스트들은 각자의 기획사에서 솔로 또는 그룹으로 활동하고 있습니다.<br>\n",
    "아이오아이 그룹 및 관련 걸그룹 리스트를 바탕으로\n",
    "1. **그룹활동을 하지 않은 멤버**를 알려주는 함수\n",
    "1. **아이오아이 멤버별 현재 소속 그룹**을 알려주는 함수\n",
    "\n",
    "를 작성해주세요."
   ]
  },
  {
   "cell_type": "code",
   "execution_count": 11,
   "metadata": {},
   "outputs": [],
   "source": [
    "ioi = [\"임나영\", \"청하\", \"세정\", \"채연\", \"결경\", \"소혜\", \"연정\", \"유정\", \"미나\", \"도연\", \"소미\"]\n",
    "pristin = [\"임나영\", \"로아\", \"유하\", \"은우\", \"레나\", \"결경\", \"예하나\", \"성연\", \"시연\", \"카일라\"]\n",
    "wikimiki = [\"수연\", \"엘리\", \"유정\", \"도연\", \"세이\", \"루아\", \"리나\", \"루시\"]\n",
    "dia = [\"유니스\", \"주은\", \"희현\", \"예빈\", \"채연\", \"은채\", \"솜이\"]\n",
    "gugudan = [\"소이\", \"하나\", \"해빈\", \"샐리\", \"미미\", \"세정\", \"미나\", \"김나영\"]\n",
    "wjsn = [\"설아\", \"선의\", \"보나\", \"엑시\", \"수빈\", \"루다\", \"다원\", \"은서\", \"성소\", \"미기\", \"여름\", \"다영\", \"연정\"]"
   ]
  },
  {
   "cell_type": "code",
   "execution_count": 28,
   "metadata": {
    "scrolled": true
   },
   "outputs": [],
   "source": [
    "# 문제\n",
    "def isSolo(name):\n",
    "    return True\n",
    "\n",
    "def whatGroup(name):\n",
    "    return name"
   ]
  },
  {
   "cell_type": "code",
   "execution_count": 15,
   "metadata": {},
   "outputs": [],
   "source": [
    "# 답\n",
    "def isSolo(name):\n",
    "    solo = set(ioi) - set(pristin) - set(wikimiki) - set(dia) - set(gugudan) - set(wjsn)\n",
    "    return name in solo\n",
    "\n",
    "def whatGroup(name):\n",
    "    if isSolo(name):\n",
    "        return \"솔로 활동 중입니다\"\n",
    "    dic = {}\n",
    "    groups = [(\"프리스틴\", set(pristin)), (\"위키미키\", set(wikimiki)), (\"다이아\", set(dia)), (\"구구단\", set(gugudan)), (\"우주소녀\", set(wjsn))]\n",
    "    for member in ioi:\n",
    "        for group in groups:\n",
    "            if member in group[1]:\n",
    "                dic[member] = group[0]\n",
    "                break\n",
    "    return dic[name] + \" 출신 입니다\""
   ]
  },
  {
   "cell_type": "code",
   "execution_count": 16,
   "metadata": {
    "scrolled": false
   },
   "outputs": [
    {
     "name": "stdout",
     "output_type": "stream",
     "text": [
      "False True\n",
      "다이아 출신 입니다 프리스틴 출신 입니다 솔로 활동 중입니다\n"
     ]
    }
   ],
   "source": [
    "# 결과\n",
    "print(isSolo(\"미나\"), isSolo(\"청하\"))\n",
    "print(whatGroup(\"채연\"), whatGroup(\"결경\"), whatGroup(\"소미\"))"
   ]
  },
  {
   "cell_type": "code",
   "execution_count": null,
   "metadata": {},
   "outputs": [],
   "source": []
  }
 ],
 "metadata": {
  "kernelspec": {
   "display_name": "Python 3",
   "language": "python",
   "name": "python3"
  },
  "language_info": {
   "codemirror_mode": {
    "name": "ipython",
    "version": 3
   },
   "file_extension": ".py",
   "mimetype": "text/x-python",
   "name": "python",
   "nbconvert_exporter": "python",
   "pygments_lexer": "ipython3",
   "version": "3.7.4"
  }
 },
 "nbformat": 4,
 "nbformat_minor": 2
}
