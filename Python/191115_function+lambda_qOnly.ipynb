{
 "cells": [
  {
   "cell_type": "markdown",
   "metadata": {},
   "source": [
    "1. function(\\*args, \\*\\*kwargs) 문법 활용해서 문제 만들고 답안 도출하기\n",
    "1. lambda 문제"
   ]
  },
  {
   "cell_type": "markdown",
   "metadata": {},
   "source": [
    "## 문제1\n",
    "인사담당자 강웅 씨는 *입사지원자 관리를 위한 함수*를 만들고자 한다.<br>\n",
    "해당 함수에는 **이름, 나이, 학력**이 필수적으로 들어가며, <br>\n",
    "지원자에 따라 **전화번호, 나이, 취미 등이 유동적**으로 들어갈 수 있어야 한다.<br>\n",
    "### 위 조건에 맞는 함수 식을 작성하시오"
   ]
  },
  {
   "cell_type": "code",
   "execution_count": 87,
   "metadata": {
    "scrolled": true
   },
   "outputs": [
    {
     "name": "stdout",
     "output_type": "stream",
     "text": [
      "이름 : 김코딩\n",
      "나이 : 37\n",
      "학력 : 대학원졸\n",
      "주소 : 서울\n",
      "전화번호 : 010-0000-0000\n",
      "\n",
      "이름 : 변영인\n",
      "나이 : 27\n",
      "학력 : 대졸\n",
      "좋아하는음식 : ['새우', '연어']\n",
      "싫어하는음식 : ['문어', '오징어', '낙지']\n",
      "프로그래밍언어 : ['자바', '파이썬', '자바스크립트']\n"
     ]
    }
   ],
   "source": [
    "# 예시\n",
    "self_info(\"김코딩\", 37, \"대학원졸\", 주소=\"서울\", 전화번호=\"010-0000-0000\")\n",
    "print()\n",
    "self_info(\"변영인\", 27, \"대졸\", 좋아하는음식=[\"새우\", \"연어\"], 싫어하는음식=[\"문어\",\"오징어\",\"낙지\"], 프로그래밍언어=[\"자바\", \"파이썬\", \"자바스크립트\"])"
   ]
  },
  {
   "cell_type": "markdown",
   "metadata": {},
   "source": [
    "![새우](https://cdn.pixabay.com/photo/2014/10/15/13/04/shrimp-489643_960_720.jpg)"
   ]
  },
  {
   "cell_type": "markdown",
   "metadata": {},
   "source": [
    "## 문제2\n",
    "ITZY의 팬인 변믿지 씨는 *ITZY의 수상 경력*을 정리하고 싶다.\n",
    "이를 위한 파이썬 함수들을 작성하려 하는데 필요한 함수는 아래와 같다.\n",
    "1. 곡명을 입력했을 때, **월별 수상 횟수**을 리턴해주는 함수\n",
    "1. 곡명을 입력했을 때, **음악 프로그램별 수상 내용을 수상 횟수를 기준으로 정렬**하여 리턴 해주는 함수\n",
    "\n",
    "### 위 조건에 맞는 함수 식들을 작성하시오"
   ]
  },
  {
   "cell_type": "code",
   "execution_count": 26,
   "metadata": {},
   "outputs": [],
   "source": [
    "data = '''달라달라/2019.02.21./엠 카운트다운/데뷔 후 첫 1위\n",
    "달라달라/2019.02.23./쇼! 음악중심/데뷔 후 첫 지상파 1위\n",
    "달라달라/2019.02.24./SBS 인기가요/\n",
    "달라달라/2019.03.03./SBS 인기가요/2주 연속\n",
    "달라달라/2019.03.07./엠 카운트다운/통산 2주\n",
    "달라달라/2019.03.08./뮤직뱅크/\n",
    "달라달라/2019.03.09./쇼! 음악중심/통산 2주\n",
    "달라달라/2019.03.10./SBS 인기가요/데뷔 후 첫 트리플크라운\n",
    "달라달라/2019.03.15./뮤직뱅크/통산 2주\n",
    "ICY/2019.08.07./SHOW CHAMPION/첫 1위\n",
    "ICY/2019.08.08./엠 카운트다운/\n",
    "ICY/2019.08.10./쇼! 음악중심/첫 지상파 1위\n",
    "ICY/2019.08.11./SBS 인기가요/\n",
    "ICY/2019.08.14./SHOW CHAMPION/2주 연속\n",
    "ICY/2019.08.16./뮤직뱅크/\n",
    "ICY/2019.08.17./쇼! 음악중심/2주 연속\n",
    "ICY/2019.08.21./SHOW CHAMPION/첫 트리플크라운\n",
    "ICY/2019.08.22./엠 카운트다운/통산 2주\n",
    "ICY/2019.08.23./뮤직뱅크/통산 2주\n",
    "ICY/2019.08.24./쇼! 음악중심/트리플크라운\n",
    "ICY/2019.08.25./SBS 인기가요/통산 2주'''"
   ]
  },
  {
   "cell_type": "code",
   "execution_count": 83,
   "metadata": {},
   "outputs": [
    {
     "name": "stdout",
     "output_type": "stream",
     "text": [
      "{'2월': 3, '3월': 6}\n",
      "{'8월': 12}\n",
      "\n",
      "{'SBS 인기가요': 3, '엠 카운트다운': 2, '쇼! 음악중심': 2, '뮤직뱅크': 2}\n",
      "{'SHOW CHAMPION': 3, '쇼! 음악중심': 3, '엠 카운트다운': 2, 'SBS 인기가요': 2, '뮤직뱅크': 2}\n"
     ]
    }
   ],
   "source": [
    "# 예시\n",
    "print(month(data, \"달라달라\"))\n",
    "print(month(data, \"ICY\"))\n",
    "print()\n",
    "print(program(data, \"달라달라\"))\n",
    "print(program(data, \"ICY\"))"
   ]
  },
  {
   "cell_type": "markdown",
   "metadata": {},
   "source": [
    "![잠옷](http://file3.instiz.net/data/cached_img/upload/2019/08/04/12/bf3d09d3a7fe978212c6c3a1d9364c9d.jpg)"
   ]
  }
 ],
 "metadata": {
  "kernelspec": {
   "display_name": "Python 3",
   "language": "python",
   "name": "python3"
  },
  "language_info": {
   "codemirror_mode": {
    "name": "ipython",
    "version": 3
   },
   "file_extension": ".py",
   "mimetype": "text/x-python",
   "name": "python",
   "nbconvert_exporter": "python",
   "pygments_lexer": "ipython3",
   "version": "3.7.4"
  }
 },
 "nbformat": 4,
 "nbformat_minor": 2
}
